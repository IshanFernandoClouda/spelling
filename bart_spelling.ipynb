{
 "cells": [
  {
   "cell_type": "code",
   "execution_count": 38,
   "metadata": {},
   "outputs": [],
   "source": [
    "from transformers import pipeline"
   ]
  },
  {
   "cell_type": "code",
   "execution_count": 170,
   "metadata": {},
   "outputs": [],
   "source": [
    "#text2text_generator = pipeline()\n",
    "fix_spelling = pipeline(\"text2text-generation\",model=\"models/t5-spelling-de/checkpoint-1000\")\n"
   ]
  },
  {
   "cell_type": "code",
   "execution_count": 174,
   "metadata": {},
   "outputs": [
    {
     "name": "stdout",
     "output_type": "stream",
     "text": [
      "[{'generated_text': 'Das erste ein neuer Test.'}]\n",
      "[{'generated_text': 'Ich schreibe einfach am Drauf, sowie schreibe einfach am Drauf'}]\n",
      "[{'generated_text': 'Das ist ein Satz das Haus ist blau.'}]\n",
      "[{'generated_text': 'Das eine Frage Frau Müller ist das eine Frage Frau Müller.'}]\n",
      "[{'generated_text': 'We Mix the Languages können wir die Sprachen mischen.'}]\n"
     ]
    }
   ],
   "source": [
    "print(fix_spelling(\"das idst ein neuZr test\"))\n",
    "print(fix_spelling(\"isch schreibe einfach aml drauf lso\"))\n",
    "print(fix_spelling(\"das ist ein satz das haus ist blau\"))\n",
    "print(fix_spelling(\"isCt das eine frage frau müller\"))\n",
    "print(fix_spelling(\"can we mix the languages können wir die sprachen mischen\"))"
   ]
  },
  {
   "cell_type": "code",
   "execution_count": 172,
   "metadata": {},
   "outputs": [
    {
     "name": "stdout",
     "output_type": "stream",
     "text": [
      "[{'generated_text': 'Anna I live in Boston, i own a Car and a Cat.'}]\n",
      "[{'generated_text': 'Lets do a Comparsion.'}]\n",
      "[{'generated_text': 'Dass is allmost n0t readible.'}]\n",
      "[{'generated_text': 'In This is B Test.'}]\n",
      "[{'generated_text': 'Doesnt adore the Bride yellow Sun?'}]\n",
      "[{'generated_text': 'I wont du This!'}]\n",
      "[{'generated_text': 'In The City 5 star Hotel In The City.'}]\n",
      "[{'generated_text': 'Die Shop is cloed due to Covid 19.'}]\n",
      "[{'generated_text': 'Hannah You need to sieht good in the matter My Name is Hanna.'}]\n",
      "[{'generated_text': 'Der going to be here so n.'}]\n",
      "[{'generated_text': 'We blushed, as if with Guilt when Cynthia reading her thoughts said to her One Day Molly youre very glad to get rid of us are not you.'}]\n"
     ]
    }
   ],
   "source": [
    "print(fix_spelling(\"my name is anna i live in boston i own a car and a cat\"))\n",
    "print(fix_spelling(\"lets do a comparsion\"))\n",
    "print(fix_spelling(\"ths is allmost n0t readible\"))\n",
    "print(fix_spelling(\"This is b test.\"))\n",
    "print(fix_spelling(\"who doesnt adore the bride yellow sun\"))\n",
    "print(fix_spelling(\"I wont du this!\"))\n",
    "print(fix_spelling(\"the onlie 5 star hotel In the City\"))\n",
    "print(fix_spelling(\"ze shop is cloed due to covid 19\"))\n",
    "print(fix_spelling(\"you need to seek good in thps matter my name is hanna\"))\n",
    "print(fix_spelling(\"Their going to be here so0n\"))\n",
    "print(fix_spelling(\"Yet she blushed as if with guilt when Cynthia reading her thoughts said to her one day Molly youre very glad to get rid of us are not you\",max_length=1024))\n",
    "\n"
   ]
  },
  {
   "cell_type": "markdown",
   "metadata": {},
   "source": []
  }
 ],
 "metadata": {
  "interpreter": {
   "hash": "6f0aeb0118fe905f3269ee277d7200327c1d8ec5bd2d09bd2e03ba6e7b6e45b2"
  },
  "kernelspec": {
   "display_name": "Python 3.8.10 ('venv': venv)",
   "language": "python",
   "name": "python3"
  },
  "language_info": {
   "codemirror_mode": {
    "name": "ipython",
    "version": 3
   },
   "file_extension": ".py",
   "mimetype": "text/x-python",
   "name": "python",
   "nbconvert_exporter": "python",
   "pygments_lexer": "ipython3",
   "version": "3.8.10"
  },
  "orig_nbformat": 4
 },
 "nbformat": 4,
 "nbformat_minor": 2
}
